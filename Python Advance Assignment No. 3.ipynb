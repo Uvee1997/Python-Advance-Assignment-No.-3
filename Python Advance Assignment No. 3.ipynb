{
 "cells": [
  {
   "cell_type": "markdown",
   "id": "cdbf5b1c",
   "metadata": {},
   "source": [
    "1) What is the concept of an abstract superclass?\n",
    "\n",
    ":- A common superclass for several superclasses\n",
    "   Defines methods that all respond to\n",
    "   Factor up common behaviour\n",
    "   Method that subclass should implemented are decleared as abstract\n",
    "   Instances of subclass are created, but instances of superclass are not created. "
   ]
  },
  {
   "cell_type": "markdown",
   "id": "90284247",
   "metadata": {},
   "source": [
    "2) What happens when a class statement's top level contains a basic assignment statement?\n",
    "\n",
    ":- A statement that is used to set value to the variable name in a program.\n",
    "   In class the basic assginment statement indicates function of a class."
   ]
  },
  {
   "cell_type": "markdown",
   "id": "023c903a",
   "metadata": {},
   "source": [
    "3) Why does a class need to manually call a superclass's __init__ method?\n",
    "\n",
    ":- To define something that is not define in the base class"
   ]
  },
  {
   "cell_type": "markdown",
   "id": "0b18a6c7",
   "metadata": {},
   "source": [
    "4) How can you augment, instead of completely replacing, an inherited method?\n",
    "\n",
    ":- By using spam.update()"
   ]
  },
  {
   "cell_type": "markdown",
   "id": "7b297ce2",
   "metadata": {},
   "source": [
    "5) How is the local scope of a class different from that of a function?\n",
    "\n",
    ":- Local scope is kind of block scope. In local scope class name space is directly acessible.\n",
    "   Local scope in function is code block or body of any python function & lambda expression."
   ]
  }
 ],
 "metadata": {
  "kernelspec": {
   "display_name": "Python 3 (ipykernel)",
   "language": "python",
   "name": "python3"
  },
  "language_info": {
   "codemirror_mode": {
    "name": "ipython",
    "version": 3
   },
   "file_extension": ".py",
   "mimetype": "text/x-python",
   "name": "python",
   "nbconvert_exporter": "python",
   "pygments_lexer": "ipython3",
   "version": "3.9.7"
  }
 },
 "nbformat": 4,
 "nbformat_minor": 5
}
